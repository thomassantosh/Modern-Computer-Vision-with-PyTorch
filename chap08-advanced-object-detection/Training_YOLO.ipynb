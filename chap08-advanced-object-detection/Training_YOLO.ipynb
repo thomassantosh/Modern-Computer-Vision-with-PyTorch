{
 "cells": [
  {
   "cell_type": "markdown",
   "metadata": {
    "colab_type": "text",
    "id": "view-in-github"
   },
   "source": [
    "<a href=\"https://colab.research.google.com/github/PacktPublishing/Hands-On-Computer-Vision-with-PyTorch/blob/master/Chapter08/Training_YOLO.ipynb\" target=\"_parent\"><img src=\"https://colab.research.google.com/assets/colab-badge.svg\" alt=\"Open In Colab\"/></a>"
   ]
  },
  {
   "cell_type": "code",
   "execution_count": null,
   "metadata": {
    "colab": {
     "base_uri": "https://localhost:8080/",
     "height": 1000
    },
    "id": "rSiUGMxBfuoQ",
    "outputId": "f14bcb35-5609-45c3-da89-ce165b2ec730"
   },
   "outputs": [],
   "source": [
    "import os\n",
    "if not os.path.exists('darknet'):\n",
    "    !git clone https://github.com/AlexeyAB/darknet\n",
    "    %cd darknet\n",
    "    !sed -i 's/OPENCV=0/OPENCV=1/' Makefile\n",
    "    # !!! In case you dont have a GPU, make sure to comment out the below 3 lines !!! #\n",
    "#     !sed -i 's/GPU=0/GPU=1/' Makefile\n",
    "#     !sed -i 's/CUDNN=0/CUDNN=1/' Makefile\n",
    "#     !sed -i 's/CUDNN_HALF=0/CUDNN_HALF=1/' Makefile\n",
    "    !make\n",
    "    !pip install -q torch_snippets\n",
    "    !wget --quiet https://www.dropbox.com/s/agmzwk95v96ihic/open-images-bus-trucks.tar.xz\n",
    "    !tar -xf open-images-bus-trucks.tar.xz\n",
    "    !rm open-images-bus-trucks.tar.xz\n",
    "    !wget --quiet https://github.com/AlexeyAB/darknet/releases/download/darknet_yolo_v3_optimal/yolov4.weights"
   ]
  },
  {
   "cell_type": "code",
   "execution_count": null,
   "metadata": {
    "colab": {
     "base_uri": "https://localhost:8080/",
     "height": 1000
    },
    "id": "yXaDc1ZVf4bX",
    "outputId": "40df53b7-d344-4323-eacd-a052b05a0e51"
   },
   "outputs": [],
   "source": [
    "!./darknet detector test cfg/coco.data cfg/yolov4.cfg yolov4.weights data/person.jpg"
   ]
  },
  {
   "cell_type": "code",
   "execution_count": null,
   "metadata": {
    "colab": {
     "base_uri": "https://localhost:8080/",
     "height": 34
    },
    "id": "cGC9JimSgqjU",
    "outputId": "5a31b0d2-7b85-4421-a66a-74501ae1a290"
   },
   "outputs": [],
   "source": [
    "%%writefile data/obj.names\n",
    "bus\n",
    "truck"
   ]
  },
  {
   "cell_type": "code",
   "execution_count": null,
   "metadata": {
    "colab": {
     "base_uri": "https://localhost:8080/",
     "height": 34
    },
    "id": "856G9No2gsUh",
    "outputId": "9ad56759-f849-447e-e4ea-5fb744c4d68c"
   },
   "outputs": [],
   "source": [
    "%%writefile data/obj.data\n",
    "classes = 2\n",
    "train = data/train.txt\n",
    "valid = data/val.txt\n",
    "names = data/obj.names\n",
    "backup = backup/"
   ]
  },
  {
   "cell_type": "code",
   "execution_count": null,
   "metadata": {
    "id": "kGVALMhdguOJ"
   },
   "outputs": [],
   "source": [
    "!mkdir -p data/obj\n",
    "!cp -r open-images-bus-trucks/images/* data/obj/\n",
    "!cp -r open-images-bus-trucks/yolo_labels/all/{train,val}.txt data/\n",
    "!cp -r open-images-bus-trucks/yolo_labels/all/labels/*.txt data/obj/"
   ]
  },
  {
   "cell_type": "code",
   "execution_count": null,
   "metadata": {
    "id": "VqUxBoqdgyqY"
   },
   "outputs": [],
   "source": [
    "# create a copy of existing configuration and modify it in place\n",
    "!cp cfg/yolov4-tiny-custom.cfg cfg/yolov4-tiny-bus-trucks.cfg\n",
    "# max_batches to 4000 (since the dataset is small enough)\n",
    "!sed -i 's/max_batches = 500200/max_batches=4000/' cfg/yolov4-tiny-bus-trucks.cfg\n",
    "# number of sub-batches per batch\n",
    "!sed -i 's/subdivisions=1/subdivisions=16/' cfg/yolov4-tiny-bus-trucks.cfg\n",
    "# number of batches after which learning rate is decayed\n",
    "!sed -i 's/steps=400000,450000/steps=3200,3600/' cfg/yolov4-tiny-bus-trucks.cfg\n",
    "# number of classes is 2 as opposed to 80 (which is the number of COCO classes)\n",
    "!sed -i 's/classes=80/classes=2/g' cfg/yolov4-tiny-bus-trucks.cfg\n",
    "# in the classification and regression heads, change number of output convolution filters\n",
    "# from 255 -> 21 and 57 -> 33, since we have fewer classes we don't need as many filters\n",
    "!sed -i 's/filters=255/filters=21/g' cfg/yolov4-tiny-bus-trucks.cfg\n",
    "!sed -i 's/filters=57/filters=33/g' cfg/yolov4-tiny-bus-trucks.cfg"
   ]
  },
  {
   "cell_type": "code",
   "execution_count": null,
   "metadata": {
    "id": "mzAvyu9rg1La"
   },
   "outputs": [],
   "source": [
    "!wget --quiet https://github.com/AlexeyAB/darknet/releases/download/darknet_yolo_v4_pre/yolov4-tiny.conv.29\n",
    "!cp yolov4-tiny.conv.29 build/darknet/x64/"
   ]
  },
  {
   "cell_type": "code",
   "execution_count": null,
   "metadata": {
    "colab": {
     "base_uri": "https://localhost:8080/",
     "height": 1000
    },
    "id": "ygX63Lp4g22E",
    "outputId": "aee3e0c8-b0ed-4b7b-a425-a3cc21d274c3"
   },
   "outputs": [],
   "source": [
    "!./darknet detector train data/obj.data cfg/yolov4-tiny-bus-trucks.cfg yolov4-tiny.conv.29 -dont_show -mapLastAt"
   ]
  },
  {
   "cell_type": "code",
   "execution_count": null,
   "metadata": {
    "colab": {
     "base_uri": "https://localhost:8080/",
     "height": 1000
    },
    "id": "rFfReDt3g4DY",
    "outputId": "72e989ab-24fd-49b5-834c-1fae45678628"
   },
   "outputs": [],
   "source": [
    "from torch_snippets import Glob, stem, show, read\n",
    "# upload your own images to a folder\n",
    "image_paths = Glob('images-of-trucks-and-busses')\n",
    "for f in image_paths:\n",
    "    !./darknet detector test data/obj.data cfg/yolov4-tiny-bus-trucks.cfg\\\n",
    "    backup/yolov4-tiny-bus-trucks_4000.weights {f}\n",
    "    !mv predictions.jpg {stem(f)}_pred.jpg\n",
    "\n",
    "for i in Glob('*_pred.jpg', silent=True):\n",
    "    show(read(i, 1), sz=20)"
   ]
  },
  {
   "cell_type": "code",
   "execution_count": null,
   "metadata": {
    "id": "MqcAHhskBF9p"
   },
   "outputs": [],
   "source": []
  }
 ],
 "metadata": {
  "accelerator": "GPU",
  "colab": {
   "collapsed_sections": [],
   "include_colab_link": true,
   "name": "Training_YOLO.ipynb",
   "provenance": []
  },
  "kernelspec": {
   "display_name": "Python 3 (ipykernel)",
   "language": "python",
   "name": "python3"
  },
  "language_info": {
   "codemirror_mode": {
    "name": "ipython",
    "version": 3
   },
   "file_extension": ".py",
   "mimetype": "text/x-python",
   "name": "python",
   "nbconvert_exporter": "python",
   "pygments_lexer": "ipython3",
   "version": "3.8.16"
  }
 },
 "nbformat": 4,
 "nbformat_minor": 1
}
